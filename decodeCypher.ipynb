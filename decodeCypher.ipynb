{
 "cells": [
  {
   "cell_type": "markdown",
   "metadata": {},
   "source": [
    "# Decode cypher text\n",
    "\n",
    "### Welcome!\n",
    "This notebook can decode cypher text. It uses a DFA created by the method outlined here\n",
    "[Extracting Automata from Recurrent Neural Networks Using Queries and Counterexamples](https://arxiv.org/abs/1711.09576).\n",
    "\n",
    "In this notebook will automatically train an RNN on symplfied set of english, and extract a DFA from that RNN.\n"
   ]
  },
  {
   "cell_type": "markdown",
   "metadata": {},
   "source": [
    "# Code below"
   ]
  },
  {
   "cell_type": "code",
   "execution_count": 1,
   "metadata": {},
   "outputs": [
    {
     "name": "stdout",
     "output_type": "stream",
     "text": [
      "['a', 'e', 'i', 'n', 'o', 'r', 's', 't']\n"
     ]
    }
   ],
   "source": [
    "from LSTM import LSTMNetwork\n",
    "from GRU import GRUNetwork\n",
    "from RNNClassifier import RNNClassifier\n",
    "from Training_Functions import make_train_set_for_target,mixed_curriculum_train\n",
    "from Extraction import extract\n",
    "\n",
    "import time\n",
    "import random\n",
    "\n",
    "from memory_profiler import profile\n",
    "\n",
    "import FalseWordGenerator as FWG\n",
    "\n",
    "import ALPHABET_8\n",
    "ALPHABET = ALPHABET_8.ALPHABET\n",
    "print (ALPHABET)"
   ]
  },
  {
   "cell_type": "code",
   "execution_count": 2,
   "metadata": {},
   "outputs": [
    {
     "name": "stdout",
     "output_type": "stream",
     "text": [
      "made training set of size: 2039\n",
      "of which 1031 are positive\n",
      "of which 1017 are negative\n"
     ]
    }
   ],
   "source": [
    "MEANINGFUL_WORDS = ALPHABET_8.WORDS\n",
    "MEANINGLESS_WORDS = FWG.generateFalseWords(ALPHABET, MEANINGFUL_WORDS)\n",
    "def target(w):             \n",
    "   if w.lower() in MEANINGFUL_WORDS:\n",
    "      return True\n",
    "   else:\n",
    "      return False\n",
    "    \n",
    "train_set = {}\n",
    "train_set.update({w: True for w in MEANINGFUL_WORDS})\n",
    "train_set.update({w: False for w in MEANINGLESS_WORDS})\n",
    "print (\"made training set of size: \" + str(len(train_set)))\n",
    "print (\"of which \" + str(len(MEANINGFUL_WORDS)) + str(\" are positive\"))\n",
    "print (\"of which \" + str(len(MEANINGLESS_WORDS)) + str(\" are negative\"))"
   ]
  },
  {
   "cell_type": "markdown",
   "metadata": {},
   "source": [
    "# Train and Extract with the optimal network"
   ]
  },
  {
   "cell_type": "code",
   "execution_count": 8,
   "metadata": {},
   "outputs": [
    {
     "name": "stdout",
     "output_type": "stream",
     "text": [
      "The dy.parameter(...) call is now DEPRECATED.\n",
      "        There is no longer need to explicitly add parameters to the computation graph.\n",
      "        Any used parameter will be added automatically.\n"
     ]
    }
   ],
   "source": [
    "rnnOpt = RNNClassifier(ALPHABET,num_layers=3,hidden_dim=50,RNNClass = LSTMNetwork)"
   ]
  },
  {
   "cell_type": "code",
   "execution_count": 9,
   "metadata": {},
   "outputs": [
    {
     "name": "stdout",
     "output_type": "stream",
     "text": [
      "current average loss is:  0.3894663330420707\n",
      "current average loss is:  0.17172273612644487\n",
      "current average loss is:  0.026442623171996034\n"
     ]
    },
    {
     "data": {
      "image/png": "[encoded data removed]",
      "text/plain": [
       "<Figure size 432x288 with 1 Axes>"
      ]
     },
     "metadata": {
      "needs_background": "light"
     },
     "output_type": "display_data"
    },
    {
     "data": {
      "image/png": "[encoded data removed]",
      "text/plain": [
       "<Figure size 432x288 with 1 Axes>"
      ]
     },
     "metadata": {
      "needs_background": "light"
     },
     "output_type": "display_data"
    },
    {
     "name": "stdout",
     "output_type": "stream",
     "text": [
      "classification loss on last batch was: 0.009561155185772947\n"
     ]
    }
   ],
   "source": [
    "mixed_curriculum_train(rnnOpt,train_set,stop_threshold = 0.01)"
   ]
  },
  {
   "cell_type": "code",
   "execution_count": 10,
   "metadata": {},
   "outputs": [],
   "source": [
    "all_words = sorted(list(train_set.keys()),key=lambda x:len(x))\n",
    "pos = next((w for w in all_words if rnnOpt.classify_word(w)==True),None)\n",
    "neg = next((w for w in all_words if rnnOpt.classify_word(w)==False),None)\n",
    "starting_examples = [w for w in [pos,neg] if not None == w]"
   ]
  },
  {
   "cell_type": "code",
   "execution_count": 11,
   "metadata": {},
   "outputs": [],
   "source": [
    "rnnOpt.renew()"
   ]
  },
  {
   "cell_type": "code",
   "execution_count": 12,
   "metadata": {},
   "outputs": [
    {
     "name": "stdout",
     "output_type": "stream",
     "text": [
      "provided counterexamples are: ['an', 'ot']\n",
      "obs table refinement took 0.001\n",
      "guided starting equivalence query for DFA of size 2\n",
      "storing provided counterexample of length 2\n",
      "returning counterexample of length 2:\t\tot, this counterexample is rejected by the given RNN.\n",
      "equivalence checking took: 0.00034388699998544325\n",
      "obs table refinement took 0.069\n",
      "guided starting equivalence query for DFA of size 8\n",
      "['', 'a']\n",
      "refining, H size is 1\n",
      "<Quantisations.SVMDecisionTreeNode object at 0x0000024F9134FC88>\n",
      "split wasn't perfect: gotta start over\n",
      "['n', 'r']\n",
      "['n', 'r', 't']\n",
      "returning counterexample of length 2:\t\tnn, this counterexample is rejected by the given RNN.\n",
      "equivalence checking took: 0.5884843660001025\n",
      "obs table refinement took 0.287\n",
      "guided starting equivalence query for DFA of size 26\n",
      "['n', 'r']\n",
      "['n', 'r', 't']\n",
      "refining, H size is 2\n",
      "<Quantisations.SVMDecisionTreeNode object at 0x0000024F9136BAC8>\n",
      "['ae', 'ai']\n",
      "returning counterexample of length 3:\t\taet, this counterexample is rejected by the given RNN.\n",
      "equivalence checking took: 0.014481600999943112\n",
      "obs table refinement took 0.852\n",
      "guided starting equivalence query for DFA of size 44\n",
      "['n', 'r']\n",
      "['ae', 'ai']\n",
      "refining, H size is 1\n",
      "<Quantisations.SVMDecisionTreeNode object at 0x0000024F914661D0>\n",
      "['an', 'ar']\n",
      "['an', 'ar', 'as']\n",
      "refining, H size is 2\n",
      "<Quantisations.SVMDecisionTreeNode object at 0x0000024F91429470>\n",
      "['en', 'er']\n",
      "returning counterexample of length 5:\t\tennsn, this counterexample is rejected by the given RNN.\n",
      "equivalence checking took: 0.02352001899998868\n",
      "obs table refinement took 9.311\n",
      "guided starting equivalence query for DFA of size 186\n",
      "['n', 'r']\n",
      "['an', 'ar']\n",
      "['en', 'er']\n",
      "returning counterexample of length 5:\t\tenast, this counterexample is accepted by the given RNN.\n",
      "equivalence checking took: 0.043261873000005835\n",
      "obs table timed out\n",
      "observation table timed out during refinement\n",
      "overall guided extraction time took: 60.08277905099999\n",
      "generated counterexamples were: (format: (counterexample, counterexample generation time))\n",
      "('ot', 0.00034388699998544325)\n",
      "('nn', 0.5884843660001025)\n",
      "('aet', 0.014481600999943112)\n",
      "('ennsn', 0.02352001899998868)\n",
      "('enast', 0.043261873000005835)\n"
     ]
    }
   ],
   "source": [
    "dfaOpt = extract(rnnOpt,time_limit = 60, initial_split_depth = 10, starting_examples = starting_examples)"
   ]
  },
  {
   "cell_type": "markdown",
   "metadata": {},
   "source": [
    "# Cypher some messages"
   ]
  },
  {
   "cell_type": "code",
   "execution_count": 4,
   "metadata": {},
   "outputs": [],
   "source": [
    "from MessageMaker import makeMessage\n",
    "\n",
    "messageLength = 5\n",
    "\n",
    "messages = []\n",
    "for i in range (5):\n",
    "    messages.append(makeMessage(MEANINGFUL_WORDS, messageLength))"
   ]
  },
  {
   "cell_type": "code",
   "execution_count": 5,
   "metadata": {},
   "outputs": [],
   "source": [
    "import cypher_creation as c\n",
    "\n",
    "rotationCypheredMessages = []\n",
    "for message in messages:\n",
    "    rotationCypheredMessages.append(c.rotate_sentence(message, ALPHABET))\n",
    "    \n",
    "swappedCypherMessages = []\n",
    "for message in messages:\n",
    "    swappedCypherMessages.append(c.swap_letters(message, ALPHABET)[0])"
   ]
  },
  {
   "cell_type": "markdown",
   "metadata": {},
   "source": [
    "# Attempt to crack the rotation cyphers"
   ]
  },
  {
   "cell_type": "code",
   "execution_count": 22,
   "metadata": {
    "scrolled": true
   },
   "outputs": [
    {
     "name": "stdout",
     "output_type": "stream",
     "text": [
      "72.42114114761353\n",
      "0.5686628818511963\n"
     ]
    }
   ],
   "source": [
    "import Rotation_Checker as RCT\n",
    "\n",
    "preCountRNN = 0.0\n",
    "accCountRNN = 0.0  \n",
    "startTime = time.time()\n",
    "for index in range(len(rotationCypheredMessages)):\n",
    "    rnnReport = RCT.checkRtCy(rotationCypheredMessages[index], ALPHABET, rnnOpt)\n",
    "    message = messages[index]\n",
    "    preCountRNN += rnnReport[0]\n",
    "    if message in rnnReport[1]:\n",
    "        accCountRNN += 1 / len(rnnReport[1])\n",
    "\n",
    "accuracyRNN = accCountRNN / len(rotationCypheredMessages)\n",
    "precisionRNN = preCountRNN / len(rotationCypheredMessages)\n",
    "rnnRunTime = time.time() - startTime\n",
    "print (rnnRunTime)\n",
    "\n",
    "\n",
    "preCountDFA = 0.0\n",
    "accCountDFA = 0.0  \n",
    "startTime = time.time()\n",
    "for index in range(len(rotationCypheredMessages)):\n",
    "    rnnReport = RCT.checkRtCy(rotationCypheredMessages[index], ALPHABET, dfaOpt)\n",
    "    message = messages[index]\n",
    "    preCountDFA += rnnReport[0]\n",
    "    if message in rnnReport[1]:\n",
    "        accCountDFA += 1 / len(rnnReport[1])\n",
    "accuracyDFA = accCountDFA / len(rotationCypheredMessages)\n",
    "precisionDFA = preCountDFA / len(rotationCypheredMessages)\n",
    "rnnRunTime = time.time() - startTime\n",
    "print (rnnRunTime)\n"
   ]
  },
  {
   "cell_type": "code",
   "execution_count": 8,
   "metadata": {},
   "outputs": [
    {
     "ename": "NameError",
     "evalue": "name 'thisAplhabet' is not defined",
     "traceback": [
      "\u001b[1;31m---------------------------------------------------------------------------\u001b[0m",
      "\u001b[1;31mNameError\u001b[0m                                 Traceback (most recent call last)",
      "\u001b[1;32m<ipython-input-8-f6056a095644>\u001b[0m in \u001b[0;36m<module>\u001b[1;34m()\u001b[0m\n\u001b[0;32m      7\u001b[0m \u001b[0mstartTime\u001b[0m \u001b[1;33m=\u001b[0m \u001b[0mtime\u001b[0m\u001b[1;33m.\u001b[0m\u001b[0mtime\u001b[0m\u001b[1;33m(\u001b[0m\u001b[1;33m)\u001b[0m\u001b[1;33m\u001b[0m\u001b[0m\n\u001b[0;32m      8\u001b[0m \u001b[1;32mfor\u001b[0m \u001b[0mmessage\u001b[0m \u001b[1;32min\u001b[0m \u001b[0mrotationCypheredMessages\u001b[0m\u001b[1;33m:\u001b[0m\u001b[1;33m\u001b[0m\u001b[0m\n\u001b[1;32m----> 9\u001b[1;33m     \u001b[0mbruteForceReport\u001b[0m \u001b[1;33m=\u001b[0m \u001b[0mcheckWithBruteForce\u001b[0m\u001b[1;33m(\u001b[0m\u001b[0mmessage\u001b[0m\u001b[1;33m,\u001b[0m \u001b[0mALPHABET\u001b[0m\u001b[1;33m,\u001b[0m \u001b[0mMEANINGFUL_WORDS\u001b[0m\u001b[1;33m)\u001b[0m\u001b[1;33m\u001b[0m\u001b[0m\n\u001b[0m",
      "\u001b[1;32m<ipython-input-8-f6056a095644>\u001b[0m in \u001b[0;36mcheckWithBruteForce\u001b[1;34m(thisMessage, thisAlphabet, theseWords)\u001b[0m\n\u001b[0;32m      2\u001b[0m \u001b[1;31m#CHECK WITH BRUTE FORCE\u001b[0m\u001b[1;33m\u001b[0m\u001b[1;33m\u001b[0m\u001b[0m\n\u001b[0;32m      3\u001b[0m \u001b[1;32mdef\u001b[0m \u001b[0mcheckWithBruteForce\u001b[0m\u001b[1;33m(\u001b[0m\u001b[0mthisMessage\u001b[0m\u001b[1;33m,\u001b[0m \u001b[0mthisAlphabet\u001b[0m\u001b[1;33m,\u001b[0m \u001b[0mtheseWords\u001b[0m\u001b[1;33m)\u001b[0m\u001b[1;33m:\u001b[0m\u001b[1;33m\u001b[0m\u001b[0m\n\u001b[1;32m----> 4\u001b[1;33m     \u001b[0mrotations\u001b[0m \u001b[1;33m=\u001b[0m \u001b[0mRCT\u001b[0m\u001b[1;33m.\u001b[0m\u001b[0mrtCyCdecode\u001b[0m\u001b[1;33m(\u001b[0m\u001b[0mthisMessage\u001b[0m\u001b[1;33m,\u001b[0m \u001b[0mthisAplhabet\u001b[0m\u001b[1;33m)\u001b[0m\u001b[1;33m\u001b[0m\u001b[0m\n\u001b[0m\u001b[0;32m      5\u001b[0m     \u001b[0mprint\u001b[0m \u001b[1;33m(\u001b[0m\u001b[0mrotations\u001b[0m\u001b[1;33m)\u001b[0m\u001b[1;33m\u001b[0m\u001b[0m\n\u001b[0;32m      6\u001b[0m \u001b[1;33m\u001b[0m\u001b[0m\n",
      "\u001b[1;31mNameError\u001b[0m: name 'thisAplhabet' is not defined"
     ],
     "output_type": "error"
    }
   ],
   "source": [
    "import Rotation_Checker as RCT\n",
    "#CHECK WITH BRUTE FORCE\n",
    "def checkWithBruteForce(thisMessage, thisAlphabet, theseWords):\n",
    "    rotations = RCT.rtCyCdecode(thisMessage, thisAplhabet)\n",
    "    print (rotations)\n",
    "    \n",
    "startTime = time.time()\n",
    "for message in rotationCypheredMessages:\n",
    "    bruteForceReport = checkWithBruteForce(message, ALPHABET, MEANINGFUL_WORDS)"
   ]
  },
  {
   "cell_type": "markdown",
   "metadata": {},
   "source": [
    "# Attempt to crack the swap cyphers"
   ]
  },
  {
   "cell_type": "code",
   "execution_count": 3,
   "metadata": {},
   "outputs": [
    {
     "name": "stdout",
     "output_type": "stream",
     "text": [
      "('ten sr sa net ent ', {'e': 't', 'a': 'e', 't': 'n', 'i': 's', 's': 'r', 'r': 'a'})\n"
     ]
    }
   ],
   "source": [
    "import frequencyAnalysis as fa\n",
    "\n",
    "from collections import Counter\n",
    "SENTENCE=\"eat is ir tae ate\"\n",
    "output = fa.freqAnalysisSwap(MEANINGFUL_WORDS, SENTENCE)\n",
    "print (output)"
   ]
  },
  {
   "cell_type": "code",
   "execution_count": null,
   "metadata": {},
   "outputs": [],
   "source": [
    "#Call draw_nicely to hijack the dfa\n",
    "dfaOpt.draw_nicely(maximum=300)\n",
    "\n",
    "for index in range(len(swappedCypherMessages)):\n",
    "    cypherMessage = swappedCypherMessages[index]\n",
    "    message = messages[index]\n",
    "    decypheredMessage = \"\"\n",
    "    for word in cypherMessage.split():\n",
    "        actualWord = dfaOpt.wordsWithWordnessScore(list(word))\n",
    "        decypheredMessage += \" \" +\"\".join(actualWord)\n",
    "    print(message)\n",
    "    print(decypheredMessage)"
   ]
  },
  {
   "cell_type": "code",
   "execution_count": null,
   "metadata": {},
   "outputs": [],
   "source": [
    ""
   ]
  },
  {
   "cell_type": "markdown",
   "metadata": {},
   "source": [
    "#### 3.4. Get stats\n",
    "Display the extracted DFA by using the `draw_nicely` function, which has optional parameters `maximum` (default $60$) and `force` (default `False`), and will only draw the DFA if it has less than `maximum` states or `force` is set to `True`.\n",
    "\n",
    "Print some statistics you might find interesting about the network, such as the trained RNN's accuracy against its target, the extracted DFA's accuracy against the RNN, and the extracted DFA's accuracy against the original RNN's target."
   ]
  },
  {
   "cell_type": "code",
   "execution_count": null,
   "metadata": {},
   "outputs": [],
   "source": [
    "#from math import pow\n",
    "#def percent(num,digits=2):\n",
    "#    tens = pow(10,digits)\n",
    "#    return str(int(100*num*tens)/tens)+\"%\"\n",
    "#print(\"hello\")\n",
    "#dfaOpt.draw_nicely(maximum=300) #max size willing to draw\n",
    "#print(\"hi\")\n",
    "\n",
    "#word = list(\"ASOI\")\n",
    "#actualWord = dfaOpt.wordsWithWordnessScore(word)\n",
    "#print(\"originialWord :\", actualWord)"
   ]
  },
  {
   "cell_type": "code",
   "execution_count": null,
   "metadata": {},
   "outputs": [],
   "source": [
    "word = list(\"asoi\")\n",
    "actualWord = dfaOpt.wordsWithWordnessScore(word)\n",
    "print(\"originialWord :\", actualWord)"
   ]
  },
  {
   "cell_type": "code",
   "execution_count": null,
   "metadata": {},
   "outputs": [],
   "source": [
    "from math import pow\n",
    "def percent(num,digits=2):\n",
    "    tens = pow(10,digits)\n",
    "    return str(int(100*num*tens)/tens)+\"%\"\n",
    "\n",
    "dfaOpt.draw_nicely(maximum=300) #max size willing to draw\n",
    "\n",
    "test_set = train_set \n",
    "print(\"testing on train set, i.e. test set is train set\")\n",
    "# we're printing stats on the train set for now, but you can define other test sets by using\n",
    "# make_train_set_for_target\n",
    "\n",
    "n = len(test_set)\n",
    "print(\"test set size:\", n)\n",
    "pos = len([w for w in test_set if target(w)])\n",
    "print(\"of which positive:\",pos,\"(\"+percent(pos/n)+\")\")\n",
    "rnn_target = len([w for w in test_set if rnn.classify_word(w)==target(w)])\n",
    "print(\"rnn score against target on test set:\",rnn_target,\"(\"+percent(rnn_target/n)+\")\")\n",
    "dfa_rnn = len([w for w in test_set if rnn.classify_word(w)==dfa.classify_word(w)])\n",
    "print(\"extracted dfa score against rnn on test set:\",dfa_rnn,\"(\"+percent(dfa_rnn/n)+\")\")\n",
    "dfa_target = len([w for w in test_set if dfa.classify_word(w)==target(w)])\n",
    "print(\"extracted dfa score against target on rnn's test set:\",dfa_target,\"(\"+percent(dfa_target/n)+\")\")"
   ]
  },
  {
   "cell_type": "code",
   "execution_count": null,
   "metadata": {},
   "outputs": [],
   "source": [
    ""
   ]
  },
  {
   "cell_type": "markdown",
   "metadata": {},
   "source": [
    "Rotation Cypher Checker"
   ]
  },
  {
   "cell_type": "code",
   "execution_count": null,
   "metadata": {},
   "outputs": [],
   "source": [
    ""
   ]
  },
  {
   "cell_type": "code",
   "execution_count": null,
   "metadata": {},
   "outputs": [],
   "source": [
    ""
   ]
  },
  {
   "cell_type": "code",
   "execution_count": null,
   "metadata": {},
   "outputs": [],
   "source": [
    ""
   ]
  },
  {
   "cell_type": "code",
   "execution_count": null,
   "metadata": {},
   "outputs": [],
   "source": [
    ""
   ]
  },
  {
   "cell_type": "code",
   "execution_count": null,
   "metadata": {},
   "outputs": [],
   "source": [
    ""
   ]
  },
  {
   "cell_type": "code",
   "execution_count": null,
   "metadata": {},
   "outputs": [],
   "source": [
    ""
   ]
  },
  {
   "cell_type": "code",
   "execution_count": null,
   "metadata": {},
   "outputs": [],
   "source": [
    ""
   ]
  }
 ],
 "metadata": {
  "kernelspec": {
   "display_name": "Python 3",
   "language": "python",
   "name": "python3"
  },
  "language_info": {
   "codemirror_mode": {
    "name": "ipython",
    "version": 3.0
   },
   "file_extension": ".py",
   "mimetype": "text/x-python",
   "name": "python",
   "nbconvert_exporter": "python",
   "pygments_lexer": "ipython3",
   "version": "3.7.0"
  }
 },
 "nbformat": 4,
 "nbformat_minor": 0
}