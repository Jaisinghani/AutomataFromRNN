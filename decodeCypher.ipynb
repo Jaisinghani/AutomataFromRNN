{
 "cells": [
  {
   "cell_type": "markdown",
   "metadata": {},
   "source": [
    "# Decode cypher text\n",
    "\n",
    "### Welcome!\n",
    "This notebook can decode cypher text. It uses a DFA created by the method outlined here\n",
    "[Extracting Automata from Recurrent Neural Networks Using Queries and Counterexamples](https://arxiv.org/abs/1711.09576).\n",
    "\n",
    "In this notebook will automatically train an RNN on symplfied set of english, and extract a DFA from that RNN.\n"
   ]
  },
  {
   "cell_type": "markdown",
   "metadata": {},
   "source": [
    "# Code below"
   ]
  },
  {
   "cell_type": "code",
   "execution_count": 1,
   "metadata": {},
   "outputs": [
    {
     "name": "stdout",
     "output_type": "stream",
     "text": [
      "['a', 'e', 'i', 'n', 'o', 'r', 's', 't']\n"
     ]
    }
   ],
   "source": [
    "from LSTM import LSTMNetwork\n",
    "from GRU import GRUNetwork\n",
    "from RNNClassifier import RNNClassifier\n",
    "from Training_Functions import make_train_set_for_target,mixed_curriculum_train\n",
    "from Extraction import extract\n",
    "\n",
    "import time\n",
    "import random\n",
    "\n",
    "from memory_profiler import profile\n",
    "\n",
    "import FalseWordGenerator as FWG\n",
    "\n",
    "import ALPHABET_8\n",
    "ALPHABET = ALPHABET_8.ALPHABET\n",
    "print (ALPHABET)"
   ]
  },
  {
   "cell_type": "code",
   "execution_count": 2,
   "metadata": {},
   "outputs": [
    {
     "name": "stdout",
     "output_type": "stream",
     "text": [
      "['aeneas', 'aeon', 'aeonian', 'aerate', 'aeration', 'aerator', 'aerie', 'aesir', 'air', 'airiness', 'airs', 'airt', 'an', 'ana', 'ananias', 'anasa', 'anatotitan', 'ani', 'anion', 'anise', 'anisette', 'anna', 'anne', 'annon', 'annona', 'annotate', 'annotation', 'annotator', 'ano', 'anoa', 'anoint', 'anointer', 'anon', 'ans', 'anser', 'anseres', 'anserinae', 'anserine', 'ant', 'antares', 'ante', 'anteater', 'antenna', 'antennaria', 'anterior', 'anti', 'antrorse', 'aorist', 'aorta', 'aortitis', 'ara', 'aranea', 'araneae', 'ararat', 'aras', 'are', 'area', 'arena', 'arenaria', 'arere', 'ares', 'arete', 'aria', 'ariana', 'arianist', 'aries', 'arietta', 'ariose', 'arioso', 'arise', 'arista', 'arno', 'arnoseris', 'arrant', 'arras', 'arrears', 'arrest', 'arrester', 'arse', 'arsenate', 'arsine', 'arson', 'arsonist', 'art', 'arteria', 'arteritis', 'artesian', 'artisan', 'artist', 'artiste', 'artois', 'arts', 'as', 'asana', 'asia', 'asian', 'asin', 'asinine', 'ass', 'assassin', 'assassinate', 'assassination', 'assassinator', 'assent', 'assenter', 'assentient', 'assert', 'asserter', 'assertion', 'assess', 'assessee', 'assessor', 'asset', 'assets', 'assist', 'assistant', 'assonant', 'assonate', 'assort', 'astaire', 'astana', 'astarte', 'astasia', 'astatine', 'aster', 'asterion', 'astern', 'astir', 'astor', 'astrantia', 'at', 'ate', 'aten', 'aton', 'atone', 'atonia', 'atresia', 'attain', 'attaint', 'attar', 'attention', 'attest', 'attestant', 'attestation', 'attestator', 'attester', 'attestor', 'attire', 'attorn', 'attrition', 'ear', 'earn', 'earner', 'earnest', 'earnestness', 'ease', 'easiness', 'east', 'easter', 'eastern', 'easterner', 'eat', 'eater', 'eats', 'eerie', 'eeriness', 'einstein', 'einsteinian', 'eira', 'eire', 'eisenstein', 'enate', 'enation', 'enets', 'enosis', 'ensete', 'ensis', 'ensnare', 'entasis', 'entente', 'enter', 'enteritis', 'enteron', 'enterostenosis', 'entertain', 'entertainer', 'entire', 'entireness', 'entrain', 'entrant', 'entreat', 'entree', 'eon', 'eonian', 'eosin', 'era', 'erase', 'eraser', 'erato', 'erie', 'erin', 'eris', 'eritrea', 'eritrean', 'erne', 'ernst', 'eros', 'erose', 'erosion', 'err', 'errant', 'error', 'erst', 'essen', 'essene', 'essonite', 'estate', 'ester', 'estonia', 'estonian', 'estrone', 'eternise', 'etna', 'etonian', 'in', 'inane', 'inanition', 'inanna', 'inattention', 'inerrant', 'inert', 'inertia', 'inertness', 'inion', 'initiate', 'initiation', 'initiator', 'inn', 'innate', 'innateness', 'inner', 'inosine', 'insane', 'insaneness', 'insatiate', 'insensate', 'insentient', 'insert', 'insertion', 'insessores', 'inset', 'insist', 'insistent', 'instant', 'instantiate', 'instantiation', 'instar', 'intense', 'intension', 'intent', 'intention', 'intentness', 'inter', 'interest', 'interior', 'interiorise', 'intern', 'interne', 'internee', 'internet', 'internist', 'interstate', 'intestate', 'intestine', 'intonate', 'intonation', 'intone', 'intranet', 'intrastate', 'intro', 'introit', 'intron', 'ion', 'ionate', 'ionia', 'ionian', 'ionisation', 'ionise', 'iran', 'irani', 'iranian', 'irate', 'irena', 'iresine', 'iris', 'iritis', 'iron', 'ironist', 'irons', 'irritant', 'irritate', 'irritation', 'isatis', 'isere', 'isoetes', 'it', 'iterate', 'iteration', 'itinerant', 'itinerate', 'itineration', 'naan', 'naiant', 'naias', 'naira', 'nansen', 'naris', 'narrate', 'narration', 'narrator', 'nasion', 'nastiness', 'natation', 'natator', 'nates', 'nation', 'natter', 'nattiness', 'near', 'nearer', 'nearest', 'nearness', 'neat', 'neaten', 'neatness', 'nee', 'nenets', 'nentsi', 'neo', 'neon', 'neonate', 'nerita', 'neritina', 'nernst', 'nero', 'ness', 'nest', 'nester', 'nestor', 'nestorian', 'net', 'nine', 'nineteen', 'nineties', 'ninon', 'nisan', 'nisei', 'nit', 'niter', 'nitrate', 'nitre', 'nitrite', 'nitrostat', 'no', 'noise', 'noisiness', 'non', 'none', 'nones', 'nonresistant', 'nonresonant', 'nonsense', 'nonstarter', 'noon', 'noose', 'noreaster', 'norn', 'norse', 'nose', 'nosiness', 'not', 'notarise', 'notate', 'notation', 'note', 'notion', 'notornis', 'oasis', 'oast', 'oat', 'oaten', 'oates', 'oestrone', 'on', 'onanist', 'one', 'oneness', 'onion', 'ononis', 'onset', 'ontario', 'or', 'oran', 'orasone', 'orate', 'oration', 'orator', 'oratorio', 'ore', 'oreo', 'orestes', 'orient', 'orientate', 'orientation', 'orinase', 'orison', 'orissa', 'orites', 'ornate', 'ornateness', 'orneriness', 'orono', 'orris', 'orrisroot', 'osier', 'osiris', 'ossete', 'osteitis', 'ostentate', 'ostentation', 'ostinato', 'ostrea', 'otaria', 'otiose', 'otitis', 'oto', 'otoe', 'ottar', 'otter', 'rain', 'raininess', 'raise', 'raiser', 'raisin', 'ranatra', 'ranee', 'ranier', 'rant', 'ranter', 'rare', 'rareness', 'rariora', 'ras', 'rase', 'rasta', 'rastas', 'raster', 'rat', 'ratan', 'rate', 'rates', 'ratio', 'ration', 'ratitae', 'ratite', 'rattan', 'ratter', 'rear', 'reason', 'reasoner', 'reassert', 'reassertion', 'reassess', 'reentrant', 'rein', 'reinstate', 'reiter', 'reiterate', 'reiteration', 'renin', 'rennet', 'rennin', 'reno', 'renoir', 'rent', 'rente', 'renter', 'rentier', 'reorient', 'reorientate', 'reorientation', 'reseat', 'resent', 'reset', 'resin', 'resinate', 'resist', 'resistant', 'resister', 'resistor', 'resonant', 'resonate', 'resonator', 'resort', 'rest', 'restart', 'restate', 'rester', 'restoration', 'restore', 'restorer', 'restrain', 'restrainer', 'restraint', 'ret', 'retain', 'retainer', 'rete', 'retention', 'retie', 'retina', 'retinene', 'retinitis', 'retire', 'retiree', 'retort', 'retrain', 'retreat', 'retreatant', 'retro', 'retrorse', 'retsina', 'riant', 'riata', 'rinse', 'rio', 'riot', 'rioter', 'rise', 'risen', 'riser', 'risotto', 'rissa', 'rite', 'roan', 'roar', 'roarer', 'roast', 'roaster', 'roe', 'roister', 'roisterer', 'roneo', 'roost', 'rooster', 'root', 'rooter', 'roots', 'rose', 'roseate', 'rosette', 'rosin', 'rosiness', 'rosita', 'rossetti', 'roster', 'rostrate', 'rot', 'rotarian', 'rotate', 'rotation', 'rote', 'rotenone', 'rotisserie', 'rotor', 'rotten', 'rottenness', 'rottenstone', 'rotter', 'saarinen', 'saint', 'sane', 'saneness', 'sanies', 'sanitariness', 'sanitate', 'sanitation', 'sanitisation', 'sanitise', 'santa', 'santee', 'santos', 'saone', 'saran', 'sarasota', 'saree', 'sari', 'sarin', 'sars', 'sarsenet', 'sartor', 'sartre', 'sas', 'sat', 'satan', 'satanist', 'sate', 'sateen', 'satiate', 'satiation', 'satie', 'satin', 'satinet', 'satinette', 'satire', 'satirise', 'satirist', 'satori', 'sea', 'sear', 'season', 'seasoner', 'seat', 'seats', 'see', 'seer', 'seine', 'senate', 'senator', 'sene', 'senior', 'seniti', 'senna', 'sennett', 'sennit', 'senor', 'senora', 'senorita', 'sens', 'sensate', 'sensation', 'sense', 'sensitisation', 'sensitise', 'sensitiser', 'sensor', 'sent', 'sente', 'sentient', 'sere', 'serene', 'sereness', 'serenoa', 'serer', 'series', 'serin', 'serine', 'serosa', 'serotine', 'serotonin', 'serra', 'serrate', 'serratia', 'serration', 'session', 'sessions', 'sestet', 'set', 'seta', 'setaria', 'seton', 'setose', 'settee', 'setter', 'sian', 'sienna', 'sierra', 'siesta', 'sin', 'sinai', 'sinatra', 'sine', 'sinister', 'sinistrorse', 'sinner', 'sinornis', 'sinter', 'sion', 'sir', 'sire', 'siren', 'sirenia', 'sirenian', 'siriasis', 'siris', 'sis', 'sison', 'sissiness', 'sissoo', 'sister', 'sit', 'sita', 'sitar', 'site', 'sitta', 'sitter', 'snare', 'snarer', 'sneer', 'sneerer', 'snit', 'snoot', 'snootiness', 'snore', 'snorer', 'snort', 'snorter', 'snot', 'so', 'soar', 'soiree', 'soissons', 'son', 'sonant', 'sonar', 'sonata', 'sonatina', 'sone', 'sonnet', 'sonneteer', 'sonora', 'sonsie', 'soon', 'sooner', 'soonest', 'soot', 'sootiness', 'sore', 'soreness', 'sorensen', 'sorriness', 'sort', 'sorter', 'sortie', 'sortition', 'stain', 'stainer', 'stair', 'stairs', 'stannite', 'stanton', 'star', 'stare', 'starer', 'starets', 'starr', 'start', 'starter', 'stasis', 'statant', 'state', 'stater', 'statin', 'station', 'stationariness', 'stationer', 'stations', 'stator', 'stearin', 'steatite', 'steatornis', 'steen', 'steer', 'steerer', 'stein', 'steiner', 'stenosis', 'stent', 'stentor', 'stentorian', 'stereo', 'stern', 'sterna', 'sterne', 'sterninae', 'sternness', 'stertor', 'stet', 'stetson', 'stint', 'stinter', 'stir', 'stirrer', 'stoat', 'stone', 'stoner', 'stoneroot', 'store', 'storeria', 'strain', 'strainer', 'strait', 'straiten', 'straits', 'street', 'stress', 'stressor', 'stria', 'striate', 'striation', 'strontianite', 'taenia', 'tai', 'taint', 'taira', 'tan', 'tanner', 'tannia', 'tannin', 'tanoan', 'tantra', 'tantrist', 'tao', 'taoist', 'taos', 'tar', 'tara', 'tarantino', 'tare', 'tarn', 'taro', 'tarot', 'tarrietia', 'tarsier', 'tarsitis', 'tart', 'tartan', 'tartar', 'tartarean', 'tartness', 'tartrate', 'tasse', 'tasset', 'tasso', 'taste', 'taster', 'tastiness', 'tat', 'tatar', 'tate', 'tater', 'tati', 'tatter', 'tattoo', 'te', 'tea', 'tear', 'tears', 'tease', 'teaser', 'teat', 'tee', 'teen', 'teens', 'teeter', 'teetertotter', 'ten', 'tenant', 'tenia', 'tenner', 'tennessean', 'tennessee', 'tennis', 'tenno', 'tenon', 'tenonitis', 'tenor', 'tenorist', 'tenoroon', 'tense', 'tenseness', 'tension', 'tensor', 'tent', 'tenter', 'tera', 'teras', 'teres', 'teresa', 'terete', 'tern', 'ternate', 'ternion', 'terrain', 'terrasse', 'terrene', 'terrier', 'terrietia', 'terrine', 'terror', 'terrorisation', 'terrorise', 'terrorist', 'terse', 'terseness', 'tertian', 'tessera', 'tessin', 'test', 'testa', 'testate', 'testator', 'testee', 'tester', 'testiere', 'testiness', 'testis', 'testosterone', 'teton', 'tetra', 'tetrao', 'tetri', 'tetrose', 'tia', 'tiara', 'tie', 'tientsin', 'tier', 'tin', 'tine', 'tinea', 'tininess', 'tinner', 'tint', 'tinter', 'tintoretto', 'tirana', 'tire', 'tiresias', 'tiro', 'tisane', 'tit', 'titan', 'titaness', 'titania', 'titer', 'titi', 'titian', 'tito', 'titrate', 'titration', 'titrator', 'titre', 'titter', 'titterer', 'toast', 'toaster', 'toe', 'toetoe', 'toitoi', 'ton', 'tone', 'toner', 'tonne', 'tons', 'tontine', 'too', 'toon', 'toona', 'toot', 'tor', 'tore', 'torero', 'torino', 'torn', 'toronto', 'torr', 'torrent', 'torreon', 'torsion', 'torso', 'tort', 'torte', 'tortoise', 'toss', 'tosser', 'tot', 'totara', 'tote', 'toter', 'totter', 'totterer', 'train', 'trainee', 'trainer', 'trait', 'traitor', 'traitress', 'transient', 'transistor', 'transistorise', 'transit', 'transition', 'transitoriness', 'treason', 'treasonist', 'treat', 'treater', 'treatise', 'tree', 'trent', 'trento', 'trenton', 'tress', 'trier', 'trine', 'trinitarian', 'trio', 'triose', 'tristan', 'tristearin', 'trite', 'triteness', 'triton', 'troat', 'trot', 'trotter', 'tsar', 'tsarina', 'tsarist', 'tsaritsa']\n",
      "made training set of size: 2044\n",
      "of which 1031 are positive\n",
      "of which 1020 are negative\n"
     ]
    }
   ],
   "source": [
    "MEANINGFUL_WORDS = ALPHABET_8.WORDS\n",
    "MEANINGLESS_WORDS = FWG.generateFalseWords(ALPHABET, MEANINGFUL_WORDS)\n",
    "def target(w):             \n",
    "   if w.lower() in MEANINGFUL_WORDS:\n",
    "      return True\n",
    "   else:\n",
    "      return False\n",
    "    \n",
    "train_set = {}\n",
    "train_set.update({w: True for w in MEANINGFUL_WORDS})\n",
    "train_set.update({w: False for w in MEANINGLESS_WORDS})\n",
    "print (\"made training set of size: \" + str(len(train_set)))\n",
    "print (\"of which \" + str(len(MEANINGFUL_WORDS)) + str(\" are positive\"))\n",
    "print (\"of which \" + str(len(MEANINGLESS_WORDS)) + str(\" are negative\"))"
   ]
  },
  {
   "cell_type": "markdown",
   "metadata": {},
   "source": [
    "# Train and Extract with the optimal network"
   ]
  },
  {
   "cell_type": "code",
   "execution_count": null,
   "metadata": {},
   "outputs": [],
   "source": [
    "rnnOpt = RNNClassifier(ALPHABET,num_layers=3,hidden_dim=50,RNNClass = LSTMNetwork)"
   ]
  },
  {
   "cell_type": "code",
   "execution_count": null,
   "metadata": {},
   "outputs": [],
   "source": [
    "mixed_curriculum_train(rnnOpt,train_set,stop_threshold = 0.01)"
   ]
  },
  {
   "cell_type": "code",
   "execution_count": null,
   "metadata": {},
   "outputs": [],
   "source": [
    "all_words = sorted(list(train_set.keys()),key=lambda x:len(x))\n",
    "pos = next((w for w in all_words if rnnOpt.classify_word(w)==True),None)\n",
    "neg = next((w for w in all_words if rnnOpt.classify_word(w)==False),None)\n",
    "starting_examples = [w for w in [pos,neg] if not None == w]"
   ]
  },
  {
   "cell_type": "code",
   "execution_count": null,
   "metadata": {},
   "outputs": [],
   "source": [
    "rnnOpt.renew()"
   ]
  },
  {
   "cell_type": "code",
   "execution_count": null,
   "metadata": {},
   "outputs": [],
   "source": [
    "dfaOpt = extract(rnnOpt,time_limit = 60, initial_split_depth = 10, starting_examples = starting_examples)"
   ]
  },
  {
   "cell_type": "markdown",
   "metadata": {},
   "source": [
    "# Cypher some messages"
   ]
  },
  {
   "cell_type": "code",
   "execution_count": null,
   "metadata": {},
   "outputs": [],
   "source": [
    "from MessageMaker import makeMessage\n",
    "\n",
    "messageLength = 10\n",
    "\n",
    "messages = []\n",
    "for i in range (5):\n",
    "    messages.append(makeMessage(MEANINGFUL_WORDS, messageLength))"
   ]
  },
  {
   "cell_type": "code",
   "execution_count": null,
   "metadata": {},
   "outputs": [],
   "source": [
    "import cypher_creation as c\n",
    "\n",
    "rotationCypheredMessages = []\n",
    "for message in messages:\n",
    "    rotationCypheredMessages.append(c.rotate_sentence(message, ALPHABET))\n",
    "    \n",
    "swappedCypherMessages = []\n",
    "for message in messages:\n",
    "    swappedCypherMessages.append(c.swap_letters(message, ALPHABET)[0])  \n",
    "                                    "
   ]
  },
  {
   "cell_type": "markdown",
   "metadata": {},
   "source": [
    "# Attempt to crack the rotation cyphers"
   ]
  },
  {
   "cell_type": "code",
   "execution_count": null,
   "metadata": {
    "scrolled": true
   },
   "outputs": [],
   "source": [
    "import Rotation_Checker as RCT\n",
    "\n",
    "def checkWithBruteForce(thisMessage, thisAlphabet, theseWords):\n",
    "    \n",
    "startTime = time.time()\n",
    "#for message in rotationCypheredMessages:\n",
    "#    rnnReport = RCT.checkWithRNN(message, ALPHABET, rnnOpt)\n",
    "rnnRunTime = time.time() - startTime\n",
    "\n",
    "startTime = time.time()\n",
    "#for message in rotationCypheredMessages:\n",
    "#    dfaReport = RCT.checkWithDFA(message, ALPHABET, dfaOpt)\n",
    "dfaRunTime = time.time() - startTime\n",
    "\n",
    "startTime = time.time()\n",
    "for message in rotationCypheredMessages:\n",
    "    bruteForceReport = checkWithBruteForce(message, ALPHABET, MEANINGFUL_WORDS)\n",
    "\n",
    "\n"
   ]
  },
  {
   "cell_type": "markdown",
   "metadata": {},
   "source": [
    "# Attempt to crack the swap cyphers"
   ]
  },
  {
   "cell_type": "code",
   "execution_count": 3,
   "metadata": {},
   "outputs": [
    {
     "name": "stdout",
     "output_type": "stream",
     "text": [
      "ten sr sa net ent \n"
     ]
    }
   ],
   "source": [
    "import frequencyAnalysis as fa\n",
    "\n",
    "from collections import Counter\n",
    "SENTENCE=\"eat is ir tae ate\"\n",
    "output = fa.freqAnalysisSwap(MEANINGFUL_WORDS, SENTENCE)\n",
    "print (output)"
   ]
  },
  {
   "cell_type": "code",
   "execution_count": null,
   "metadata": {},
   "outputs": [],
   "source": [
    "#Call draw_nicely to hijack the dfa\n",
    "dfaOpt.draw_nicely(maximum=300)\n",
    "\n",
    "for index in range(len(swappedCypherMessages)):\n",
    "    cypherMessage = swappedCypherMessages[index]\n",
    "    message = messages[index]\n",
    "    decypheredMessage = \"\"\n",
    "    for word in cypherMessage.split():\n",
    "        actualWord = dfaOpt.wordsWithWordnessScore(list(word))\n",
    "        decypheredMessage += \" \" +\"\".join(actualWord)\n",
    "    print(message)\n",
    "    print(decypheredMessage)\n",
    "        "
   ]
  },
  {
   "cell_type": "code",
   "execution_count": null,
   "metadata": {},
   "outputs": [],
   "source": []
  },
  {
   "cell_type": "markdown",
   "metadata": {},
   "source": [
    "#### 3.4. Get stats\n",
    "Display the extracted DFA by using the `draw_nicely` function, which has optional parameters `maximum` (default $60$) and `force` (default `False`), and will only draw the DFA if it has less than `maximum` states or `force` is set to `True`.\n",
    "\n",
    "Print some statistics you might find interesting about the network, such as the trained RNN's accuracy against its target, the extracted DFA's accuracy against the RNN, and the extracted DFA's accuracy against the original RNN's target."
   ]
  },
  {
   "cell_type": "code",
   "execution_count": null,
   "metadata": {},
   "outputs": [],
   "source": [
    "#from math import pow\n",
    "#def percent(num,digits=2):\n",
    "#    tens = pow(10,digits)\n",
    "#    return str(int(100*num*tens)/tens)+\"%\"\n",
    "#print(\"hello\")\n",
    "#dfaOpt.draw_nicely(maximum=300) #max size willing to draw\n",
    "#print(\"hi\")\n",
    "\n",
    "#word = list(\"ASOI\")\n",
    "#actualWord = dfaOpt.wordsWithWordnessScore(word)\n",
    "#print(\"originialWord :\", actualWord)"
   ]
  },
  {
   "cell_type": "code",
   "execution_count": null,
   "metadata": {},
   "outputs": [],
   "source": [
    "word = list(\"asoi\")\n",
    "actualWord = dfaOpt.wordsWithWordnessScore(word)\n",
    "print(\"originialWord :\", actualWord)\n"
   ]
  },
  {
   "cell_type": "code",
   "execution_count": null,
   "metadata": {},
   "outputs": [],
   "source": [
    "\n",
    "from math import pow\n",
    "def percent(num,digits=2):\n",
    "    tens = pow(10,digits)\n",
    "    return str(int(100*num*tens)/tens)+\"%\"\n",
    "\n",
    "dfaOpt.draw_nicely(maximum=300) #max size willing to draw\n",
    "\n",
    "test_set = train_set \n",
    "print(\"testing on train set, i.e. test set is train set\")\n",
    "# we're printing stats on the train set for now, but you can define other test sets by using\n",
    "# make_train_set_for_target\n",
    "\n",
    "n = len(test_set)\n",
    "print(\"test set size:\", n)\n",
    "pos = len([w for w in test_set if target(w)])\n",
    "print(\"of which positive:\",pos,\"(\"+percent(pos/n)+\")\")\n",
    "rnn_target = len([w for w in test_set if rnn.classify_word(w)==target(w)])\n",
    "print(\"rnn score against target on test set:\",rnn_target,\"(\"+percent(rnn_target/n)+\")\")\n",
    "dfa_rnn = len([w for w in test_set if rnn.classify_word(w)==dfa.classify_word(w)])\n",
    "print(\"extracted dfa score against rnn on test set:\",dfa_rnn,\"(\"+percent(dfa_rnn/n)+\")\")\n",
    "dfa_target = len([w for w in test_set if dfa.classify_word(w)==target(w)])\n",
    "print(\"extracted dfa score against target on rnn's test set:\",dfa_target,\"(\"+percent(dfa_target/n)+\")\")\n"
   ]
  },
  {
   "cell_type": "code",
   "execution_count": null,
   "metadata": {},
   "outputs": [],
   "source": []
  },
  {
   "cell_type": "markdown",
   "metadata": {},
   "source": [
    "Rotation Cypher Checker"
   ]
  },
  {
   "cell_type": "code",
   "execution_count": null,
   "metadata": {},
   "outputs": [],
   "source": []
  },
  {
   "cell_type": "code",
   "execution_count": null,
   "metadata": {},
   "outputs": [],
   "source": []
  },
  {
   "cell_type": "code",
   "execution_count": null,
   "metadata": {},
   "outputs": [],
   "source": []
  },
  {
   "cell_type": "code",
   "execution_count": null,
   "metadata": {},
   "outputs": [],
   "source": []
  },
  {
   "cell_type": "code",
   "execution_count": null,
   "metadata": {},
   "outputs": [],
   "source": []
  },
  {
   "cell_type": "code",
   "execution_count": null,
   "metadata": {},
   "outputs": [],
   "source": []
  },
  {
   "cell_type": "code",
   "execution_count": null,
   "metadata": {},
   "outputs": [],
   "source": []
  }
 ],
 "metadata": {
  "kernelspec": {
   "display_name": "Python 3",
   "language": "python",
   "name": "python3"
  },
  "language_info": {
   "codemirror_mode": {
    "name": "ipython",
    "version": 3
   },
   "file_extension": ".py",
   "mimetype": "text/x-python",
   "name": "python",
   "nbconvert_exporter": "python",
   "pygments_lexer": "ipython3",
   "version": "3.7.0"
  }
 },
 "nbformat": 4,
 "nbformat_minor": 1
}
